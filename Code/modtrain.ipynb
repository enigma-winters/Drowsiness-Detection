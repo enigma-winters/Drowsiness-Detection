{
 "cells": [
  {
   "cell_type": "code",
   "execution_count": 1,
   "metadata": {},
   "outputs": [],
   "source": [
    "from keras.models import Sequential\n",
    "from keras.layers import Dense,Conv2D,Dropout,MaxPooling2D,Flatten\n",
    "from keras.preprocessing.image import ImageDataGenerator\n",
    "import cv2\n",
    "import os"
   ]
  },
  {
   "cell_type": "code",
   "execution_count": null,
   "metadata": {},
   "outputs": [],
   "source": []
  },
  {
   "cell_type": "code",
   "execution_count": 2,
   "metadata": {},
   "outputs": [
    {
     "data": {
      "text/plain": [
       "(100, 100, 3)"
      ]
     },
     "execution_count": 2,
     "metadata": {},
     "output_type": "execute_result"
    }
   ],
   "source": [
    "img = cv2.imread(\"data/close/s0001_00077_0_0_0_0_0_01.png\")\n",
    "img.shape"
   ]
  },
  {
   "cell_type": "code",
   "execution_count": 3,
   "metadata": {},
   "outputs": [
    {
     "name": "stdout",
     "output_type": "stream",
     "text": [
      "Model: \"sequential\"\n",
      "_________________________________________________________________\n",
      "Layer (type)                 Output Shape              Param #   \n",
      "=================================================================\n",
      "conv2d (Conv2D)              (None, 22, 22, 32)        320       \n",
      "_________________________________________________________________\n",
      "max_pooling2d (MaxPooling2D) (None, 22, 22, 32)        0         \n",
      "_________________________________________________________________\n",
      "conv2d_1 (Conv2D)            (None, 20, 20, 32)        9248      \n",
      "_________________________________________________________________\n",
      "max_pooling2d_1 (MaxPooling2 (None, 20, 20, 32)        0         \n",
      "_________________________________________________________________\n",
      "conv2d_2 (Conv2D)            (None, 18, 18, 64)        18496     \n",
      "_________________________________________________________________\n",
      "max_pooling2d_2 (MaxPooling2 (None, 18, 18, 64)        0         \n",
      "_________________________________________________________________\n",
      "dropout (Dropout)            (None, 18, 18, 64)        0         \n",
      "_________________________________________________________________\n",
      "flatten (Flatten)            (None, 20736)             0         \n",
      "_________________________________________________________________\n",
      "dense (Dense)                (None, 128)               2654336   \n",
      "_________________________________________________________________\n",
      "dropout_1 (Dropout)          (None, 128)               0         \n",
      "_________________________________________________________________\n",
      "dense_1 (Dense)              (None, 2)                 258       \n",
      "=================================================================\n",
      "Total params: 2,682,658\n",
      "Trainable params: 2,682,658\n",
      "Non-trainable params: 0\n",
      "_________________________________________________________________\n"
     ]
    }
   ],
   "source": [
    "model = Sequential([\n",
    "    Conv2D(32, kernel_size=(3, 3), activation='relu', input_shape=(24,24,1)),  #################\n",
    "    MaxPooling2D(pool_size=(1,1)),\n",
    "    Conv2D(32,(3,3),activation='relu'),\n",
    "    MaxPooling2D(pool_size=(1,1)),\n",
    "#32 convolution filters used each of size 3x3\n",
    "#again\n",
    "    Conv2D(64, (3, 3), activation='relu'),\n",
    "    MaxPooling2D(pool_size=(1,1)),\n",
    "\n",
    "#64 convolution filters used each of size 3x3\n",
    "#choose the best features via pooling\n",
    "    \n",
    "#randomly turn neurons on and off to improve convergence\n",
    "    Dropout(0.25),\n",
    "#flatten since too many dimensions, we only want a classification output\n",
    "    Flatten(),\n",
    "#fully connected to get all relevant data\n",
    "    Dense(128, activation='relu'),\n",
    "#one more dropout for convergence' sake :) \n",
    "    Dropout(0.5),\n",
    "#output a softmax to squash the matrix into output probabilities\n",
    "    Dense(2, activation='softmax')\n",
    "])\n",
    "\n",
    "\n",
    "model.summary()"
   ]
  },
  {
   "cell_type": "code",
   "execution_count": 4,
   "metadata": {},
   "outputs": [],
   "source": [
    "model.compile(optimizer=\"adam\",loss='categorical_crossentropy',metrics=[\"accuracy\"])\n",
    "\n",
    "# loss='categorical_crossentropy'\n",
    "# loss=\"binary_crossentropy\""
   ]
  },
  {
   "cell_type": "code",
   "execution_count": 5,
   "metadata": {},
   "outputs": [
    {
     "name": "stdout",
     "output_type": "stream",
     "text": [
      "Found 67919 images belonging to 2 classes.\n",
      "Found 16979 images belonging to 2 classes.\n"
     ]
    }
   ],
   "source": [
    "image_generator = ImageDataGenerator(rescale=1./255, validation_split=0.2)\n",
    "\n",
    "targetsize = (24,24)                                     ###########################\n",
    "batchsize = 32\n",
    "\n",
    "#train_image_gen = img_gen.flow_from_directory(\"eyes\",target_size=(100,100),batch_size=10)\n",
    "\n",
    "train_dataset = image_generator.flow_from_directory('my_data',batch_size=batchsize,shuffle = True,\n",
    "                    color_mode='grayscale',target_size= targetsize,subset = 'training',class_mode = 'categorical')\n",
    "\n",
    "valid_dataset = image_generator.flow_from_directory('my_data',batch_size=batchsize,shuffle = True,\n",
    "                color_mode='grayscale',target_size= targetsize,subset = 'validation',class_mode = 'categorical')"
   ]
  },
  {
   "cell_type": "code",
   "execution_count": 6,
   "metadata": {},
   "outputs": [
    {
     "data": {
      "text/plain": [
       "(2122, 530)"
      ]
     },
     "execution_count": 6,
     "metadata": {},
     "output_type": "execute_result"
    }
   ],
   "source": [
    "SPE = len(train_dataset.classes)//batchsize\n",
    "VS = len(valid_dataset.classes)//batchsize\n",
    "\n",
    "SPE,VS\n",
    "# print(train_image_gen.class_indices)"
   ]
  },
  {
   "cell_type": "code",
   "execution_count": 7,
   "metadata": {},
   "outputs": [
    {
     "name": "stdout",
     "output_type": "stream",
     "text": [
      "Epoch 1/10\n",
      "2122/2122 [==============================] - 939s 442ms/step - loss: 0.2217 - accuracy: 0.9116 - val_loss: 0.2132 - val_accuracy: 0.9129\n",
      "Epoch 2/10\n",
      "2122/2122 [==============================] - 136s 64ms/step - loss: 0.0760 - accuracy: 0.9731 - val_loss: 0.1665 - val_accuracy: 0.9353\n",
      "Epoch 3/10\n",
      "2122/2122 [==============================] - 140s 66ms/step - loss: 0.0543 - accuracy: 0.9812 - val_loss: 0.1760 - val_accuracy: 0.9259\n",
      "Epoch 4/10\n",
      "2122/2122 [==============================] - 148s 70ms/step - loss: 0.0444 - accuracy: 0.9846 - val_loss: 0.2651 - val_accuracy: 0.9206\n",
      "Epoch 5/10\n",
      "2122/2122 [==============================] - 145s 69ms/step - loss: 0.0411 - accuracy: 0.9859 - val_loss: 0.3713 - val_accuracy: 0.9017\n",
      "Epoch 6/10\n",
      "2122/2122 [==============================] - 162s 76ms/step - loss: 0.0326 - accuracy: 0.9881 - val_loss: 0.2524 - val_accuracy: 0.9232\n",
      "Epoch 7/10\n",
      "2122/2122 [==============================] - 151s 71ms/step - loss: 0.0319 - accuracy: 0.9887 - val_loss: 0.2607 - val_accuracy: 0.9205\n",
      "Epoch 8/10\n",
      "2122/2122 [==============================] - 147s 69ms/step - loss: 0.0282 - accuracy: 0.9902 - val_loss: 0.2688 - val_accuracy: 0.9241\n",
      "Epoch 9/10\n",
      "2122/2122 [==============================] - 150s 71ms/step - loss: 0.0283 - accuracy: 0.9902 - val_loss: 0.1927 - val_accuracy: 0.9375\n",
      "Epoch 10/10\n",
      "2122/2122 [==============================] - 149s 70ms/step - loss: 0.0220 - accuracy: 0.9922 - val_loss: 0.2764 - val_accuracy: 0.9369\n"
     ]
    },
    {
     "data": {
      "text/plain": [
       "<tensorflow.python.keras.callbacks.History at 0x7f047811bcd0>"
      ]
     },
     "execution_count": 7,
     "metadata": {},
     "output_type": "execute_result"
    }
   ],
   "source": [
    "#results = model.fit_generator(train_image_gen,epochs=20,steps_per_epoch=243)\n",
    "\n",
    "model.fit(train_dataset,validation_data= valid_dataset,epochs = 10,steps_per_epoch=SPE,validation_steps = VS)"
   ]
  },
  {
   "cell_type": "code",
   "execution_count": 8,
   "metadata": {},
   "outputs": [],
   "source": [
    "model.save('models/trained_model_24_2.h5',overwrite = True)"
   ]
  },
  {
   "cell_type": "code",
   "execution_count": null,
   "metadata": {},
   "outputs": [],
   "source": []
  }
 ],
 "metadata": {
  "kernelspec": {
   "display_name": "Python 3",
   "language": "python",
   "name": "python3"
  },
  "language_info": {
   "codemirror_mode": {
    "name": "ipython",
    "version": 3
   },
   "file_extension": ".py",
   "mimetype": "text/x-python",
   "name": "python",
   "nbconvert_exporter": "python",
   "pygments_lexer": "ipython3",
   "version": "3.8.5"
  }
 },
 "nbformat": 4,
 "nbformat_minor": 4
}
